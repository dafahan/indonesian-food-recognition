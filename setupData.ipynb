{
 "cells": [
  {
   "cell_type": "code",
   "execution_count": 82,
   "metadata": {},
   "outputs": [],
   "source": [
    "import os\n",
    "import shutil\n",
    "import csv\n",
    "from PIL import Image\n",
    "import pandas as pd\n"
   ]
  },
  {
   "cell_type": "markdown",
   "metadata": {},
   "source": [
    "MAKE CSV OF MEASUGAR"
   ]
  },
  {
   "cell_type": "code",
   "execution_count": 83,
   "metadata": {},
   "outputs": [],
   "source": [
    "\n",
    "# Read data from Excel file\n",
    "df = pd.read_excel('input.xlsx', sheet_name='Database', header=None)\n",
    "\n",
    "# Select the desired range from B3 to E113\n",
    "selected_data = df.iloc[2:113, 1:5]\n",
    "\n",
    "# Export selected data to CSV file\n",
    "selected_data.to_csv('output_file.csv', index=False, header=False)\n"
   ]
  },
  {
   "cell_type": "markdown",
   "metadata": {},
   "source": [
    "SETUP DIRECTORY"
   ]
  },
  {
   "cell_type": "code",
   "execution_count": 18,
   "metadata": {},
   "outputs": [],
   "source": [
    "\n",
    "\n",
    "def copy_files(source_dir, dest_root):\n",
    "    for root, dirs, files in os.walk(source_dir):\n",
    "        for filename in files:\n",
    "            source_path = os.path.join(root, filename)\n",
    "            \n",
    "            # Extracting the parts from the source path\n",
    "            _, _, category, split, _ = source_path.split(os.path.sep)[-5:]\n",
    "            \n",
    "            # Creating destination directory if not exists\n",
    "            \n",
    "            dest_dir = os.path.join(dest_root, split.lower().replace(\" \", \"\"), category)\n",
    "            os.makedirs(dest_dir, exist_ok=True)\n",
    "            \n",
    "            # Copying the file to the destination directory\n",
    "            shutil.copy(source_path, dest_dir)\n",
    "\n",
    "# Source directory\n",
    "source_dir = \"/home/dafahan/Downloads/raw-data-makanan\"\n",
    "\n",
    "# Destination root directory\n",
    "dest_root = \"/home/dafahan/Downloads/makanan\"\n",
    "\n",
    "# Copy files\n",
    "copy_files(source_dir, dest_root)\n"
   ]
  },
  {
   "cell_type": "markdown",
   "metadata": {},
   "source": [
    "GET LABELS"
   ]
  },
  {
   "cell_type": "code",
   "execution_count": 24,
   "metadata": {},
   "outputs": [
    {
     "name": "stdout",
     "output_type": "stream",
     "text": [
      "[\"Nasi Uduk\",\"Bubur Ayam\",\"Ayam Geprek\",\"Nasi Goreng\",\"Bakso Daging Sapi\",\"Soto Mie\",\"Es Teh Manis\",\"Es Jeruk peras\",\"Es kelapa muda\",\"Es Kopi\",\"Spaghetti\",\"Nasi Goreng Ayam\",\"Makaroni Keju\",\"Kue Bolu Coklat \",\"Mie Kocok\",\"Pizza Keju\",\"Kari Ayam\",\"Sup Ayam\",\"Susu Coklat\",\"Jus Apel\",\"Ramen Ayam\",\"Belgian Waffle\",\"Mie Goreng\",\"Donat (Glazed)\",\"Es Krim Strawberry\",\"Kentang Goreng\",\"Burger\",\"Nugget Ayam\",\"Telur Goreng\",\"Jus Jeruk\",\"Risol Mayo\",\"Risol Bihun\",\"Soto Ayam \",\"Nasi Merah\",\"Kerupuk Udang\",\"Perkedel Kentang\",\"Telur Rebus\",\"Kue Apem\",\"Ayam (Dilapisi Tepung Roti dan Digoreng)\",\"Martabak Keju\",\"Kue Cubit \",\"Es Podeng\",\"Es Doger\",\"Es Teler\",\"Es Loli \",\"Brownies\",\"Bakpia\",\"Keripik Kentang\",\"Empal Gentong \",\"Serabi\",\"Klepon\",\"Dadar Gulung (2 lapis)\",\"Nagasari\",\"Kue Lumpur\",\"Lapis Legit (1 potong)\",\"Es Dawet\",\"Sop Buah\",\"Cendol\",\"Es Kacang Merah\",\"Es Campur\",\"Rendang\",\"Gado-gado\",\"Siomay\",\"Dimsum\",\"Sate Ayam\",\"Mie Ayam\",\"Es Krim Coklat\",\"Es Semangka\",\"Nasi Padang\",\"Pempek\",\"Pecel Lele\",\"Rawon\",\"Ikan Gurame Asam Manis\",\"Cilok\",\"Kopi Latte\",\"Soda\",\"Cumi Goreng\",\"Ikan Bandeng Goreng\",\"Udang Goreng\",\"Udang Lapis Tepung \",\"Gelato\",\"Perkedel Jagung\",\"Tahu Isi\",\"Milk Shake\",\"Teh Tarik\",\"Puding Coklat\",\"Pisang Goreng Madu\",\"Roti isi Coklat\",\"Es Krim Vanila\",\"Lumpia Basah\",\"Tempe Orek\",\"Tuna Salad Sandwich\",\"Sandwich Keju\",\"Tumis Kangkung\",\"Salmon Panggang\",\"Sup Sayur Ayam\",\"Salad Buah\",\"Oatmeal Ubi Jalar\",\"Telur Dadar Sayur\",\"Tumis Tahu\",\"Greek Yoghurt dengan Buah & Granola\",\"Jus Alpukat\",\"Cappucino\",\"Teh Tanpa Gula\",\"Air Putih\",\"Mochi\",\"Kopi Americano\",\"Chicken Katsu\",\"Lasagna\",\"Nasi Hainan\",]"
     ]
    }
   ],
   "source": [
    "\n",
    "# Path to the CSV file\n",
    "csv_file = \"output_file.csv\"\n",
    "\n",
    "# Read the first column from the CSV file\n",
    "print(\"[\",end=\"\")\n",
    "with open(csv_file, \"r\", newline=\"\") as file:\n",
    "    reader = csv.reader(file)\n",
    "    # Skip the header row\n",
    "    next(reader)\n",
    "    # Print the first column\n",
    "    for row in reader:\n",
    "        print(f'\"{row[0]}\"',end=\",\")\n",
    "\n",
    "print(\"]\",end=\"\")\n"
   ]
  },
  {
   "cell_type": "markdown",
   "metadata": {},
   "source": [
    "CHECK DIRECTORY IF ANY MISSING LABELS"
   ]
  },
  {
   "cell_type": "code",
   "execution_count": 56,
   "metadata": {},
   "outputs": [
    {
     "name": "stdout",
     "output_type": "stream",
     "text": [
      "Telur Dadar Sayur does not exist in validation.\n",
      "Telur Dadar Sayur does not exist in train.\n"
     ]
    }
   ],
   "source": [
    "labels = [\"Nasi Uduk\",\"Bubur Ayam\",\"Ayam Geprek\",\"Nasi Goreng\",\"Bakso Daging Sapi\",\"Soto Mie\",\"Es Teh Manis\",\"Es Jeruk peras\",\"Es kelapa muda\",\"Es Kopi\",\"Spaghetti\",\"Nasi Goreng Ayam\",\"Makaroni Keju\",\"Kue Bolu Coklat \",\"Mie Kocok\",\"Pizza Keju\",\"Kari Ayam\",\"Sup Ayam\",\"Susu Coklat\",\"Jus Apel\",\"Ramen Ayam\",\"Belgian Waffle\",\"Mie Goreng\",\"Donat (Glazed)\",\"Es Krim Strawberry\",\"Kentang Goreng\",\"Burger\",\"Nugget Ayam\",\"Telur Goreng\",\"Jus Jeruk\",\"Risol Mayo\",\"Risol Bihun\",\"Soto Ayam \",\"Nasi Merah\",\"Kerupuk Udang\",\"Perkedel Kentang\",\"Telur Rebus\",\"Kue Apem\",\"Ayam (Dilapisi Tepung Roti dan Digoreng)\",\"Martabak Keju\",\"Kue Cubit \",\"Es Podeng\",\"Es Doger\",\"Es Teler\",\"Es Loli \",\"Brownies\",\"Bakpia\",\"Keripik Kentang\",\"Empal Gentong \",\"Serabi\",\"Klepon\",\"Dadar Gulung (2 lapis)\",\"Nagasari\",\"Kue Lumpur\",\"Lapis Legit (1 potong)\",\"Es Dawet\",\"Sop Buah\",\"Cendol\",\"Es Kacang Merah\",\"Es Campur\",\"Rendang\",\"Gado-gado\",\"Siomay\",\"Dimsum\",\"Sate Ayam\",\"Mie Ayam\",\"Es Krim Coklat\",\"Es Semangka\",\"Nasi Padang\",\"Pempek\",\"Pecel Lele\",\"Rawon\",\"Ikan Gurame Asam Manis\",\"Cilok\",\"Kopi Latte\",\"Soda\",\"Cumi Goreng\",\"Ikan Bandeng Goreng\",\"Udang Goreng\",\"Udang Lapis Tepung \",\"Gelato\",\"Perkedel Jagung\",\"Tahu Isi\",\"Milk Shake\",\"Teh Tarik\",\"Puding Coklat\",\"Pisang Goreng Madu\",\"Roti isi Coklat\",\"Es Krim Vanila\",\"Lumpia Basah\",\"Tempe Orek\",\"Tuna Salad Sandwich\",\"Sandwich Keju\",\"Tumis Kangkung\",\"Salmon Panggang\",\"Sup ayam\",\"Salad Buah\",\"Oatmeal Ubi Jalar\",\"Telur Dadar Sayur\",\"Tumis Tahu\",\"Greek Yoghurt dengan Buah & Granola\",\"Jus Alpukat\",\"Cappucino\",\"Teh Tanpa Gula\",\"Air Putih\",\"Mochi\",\"Kopi Americano\",\"Chicken Katsu\",\"Lasagna\",\"Nasi Hainan\",]\n",
    "# Base directory\n",
    "base_dir = \"/home/dafahan/Downloads/makanan\"\n",
    "# Function to get lowercase directory names within a directory\n",
    "def get_lowercased_dir_names(directory):\n",
    "    return [d.lower() for d in os.listdir(directory)]\n",
    "    \n",
    "allExist = True\n",
    "\n",
    "# Check for each label\n",
    "for label in labels:\n",
    "    # Remove last space if exists\n",
    "    if label[-1] == \" \":\n",
    "        label = label[:-1]\n",
    "    \n",
    "    # Lowercase label\n",
    "    label_lower = label.lower()\n",
    "    \n",
    "    # Get lowercase directory names\n",
    "    test_dirs_lower = get_lowercased_dir_names(os.path.join(base_dir, \"test\"))\n",
    "    validation_dirs_lower = get_lowercased_dir_names(os.path.join(base_dir, \"validation\"))\n",
    "    train_dirs_lower = get_lowercased_dir_names(os.path.join(base_dir, \"train\"))\n",
    "\n",
    "    # Check if label exists in directories\n",
    "    if label_lower not in test_dirs_lower:\n",
    "        print(f\"{label} does not exist in test.\")\n",
    "        allExist = False\n",
    "    if label_lower not in validation_dirs_lower:\n",
    "        print(f\"{label} does not exist in validation.\")\n",
    "        allExist = False\n",
    "    if label_lower not in train_dirs_lower:\n",
    "        print(f\"{label} does not exist in train.\")\n",
    "        allExist = False\n",
    "\n",
    "if allExist:\n",
    "    print(\"ALL LABELS FOUND\")\n",
    "    "
   ]
  },
  {
   "cell_type": "code",
   "execution_count": 75,
   "metadata": {},
   "outputs": [
    {
     "name": "stdout",
     "output_type": "stream",
     "text": [
      "raw = 110\n",
      "train = 108\n",
      "['Air Putih', 'Ayam (Dilapisi Tepung Roti dan Digoreng)', 'Ayam Geprek', 'Bakpia', 'Bakso Daging Sapi', 'Belgian Waffle', 'Brownies', 'Bubur Ayam', 'Burger', 'Cappucino', 'Cendol', 'Chicken Katsu', 'Cilok', 'Cumi Goreng', 'Dadar Gulung (2 lapis)', 'Dimsum', 'Donat (Glazed)', 'Empal Gentong', 'Es Campur', 'Es Dawet', 'Es Doger', 'Es Jeruk Peras', 'Es Kacang Merah', 'Es Kelapa Muda', 'Es Kopi', 'Es Krim Coklat', 'Es Krim Strawberry', 'Es Krim Vanila', 'Es Loli', 'Es Podeng', 'Es Semangka', 'Es Teh Manis', 'Es Teler', 'Gado-gado', 'Gelato', 'Greek Yoghurt dengan Buah & Granola', 'Ikan Bandeng Goreng', 'Ikan Gurame Asam Manis', 'Jus Alpukat', 'Jus Apel', 'Jus Jeruk', 'Kari Ayam', 'Kentang Goreng', 'Keripik Kentang', 'Kerupuk Udang', 'Klepon', 'Kopi Americano', 'Kopi Latte', 'Kue Apem', 'Kue Bolu Coklat', 'Kue Cubit', 'Kue Lumpur', 'Lapis Legit (1 potong)', 'Lasagna', 'Lumpia Basah', 'Makaroni Keju', 'Martabak Keju', 'Mie Ayam', 'Mie Goreng', 'Mie Kocok', 'Milk Shake', 'Mochi', 'Nagasari', 'Nasi Goreng', 'Nasi Goreng Ayam', 'Nasi Hainan', 'Nasi Merah', 'Nasi Padang', 'Nasi Uduk', 'Nugget Ayam', 'Oatmeal Ubi Jalar', 'Pecel Lele', 'Pempek', 'Perkedel Jagung', 'Perkedel Kentang', 'Pisang Goreng Madu', 'Pizza Keju', 'Puding Coklat', 'Ramen Ayam', 'Rawon', 'Rendang', 'Risol Bihun', 'Risol Mayo', 'Roti Isi Coklat', 'Salad Buah', 'Salmon Panggang', 'Sandwich Keju', 'Sate Ayam', 'Serabi', 'Siomay', 'Soda', 'Soda', 'Sop buah', 'Soto ayam', 'Soto mie', 'Spaghetti', 'Sup ayam', 'Susu coklat', 'Tahu isi', 'Teh tanpa gula', 'Teh tarik', 'Telur dadar sayur', 'Telur goreng', 'Telur rebus', 'Tempe orek', 'Tumis kangkung', 'Tumis tahu', 'Tuna salad sandwich', 'Udang goreng', 'Udang lapis tepung']\n",
      "['Air Putih', 'Ayam (Dilapisi Tepung Roti dan Digoreng)', 'Ayam Geprek', 'Bakpia', 'Bakso Daging Sapi', 'Belgian Waffle', 'Brownies', 'Bubur Ayam', 'Burger', 'Cappucino', 'Cendol', 'Chicken Katsu', 'Cilok', 'Cumi Goreng', 'Dadar Gulung (2 lapis)', 'Dimsum', 'Donat (Glazed)', 'Empal Gentong', 'Es Campur', 'Es Dawet', 'Es Doger', 'Es Jeruk Peras', 'Es Kacang Merah', 'Es Kelapa Muda', 'Es Kopi', 'Es Krim Coklat', 'Es Krim Strawberry', 'Es Krim Vanila', 'Es Loli', 'Es Podeng', 'Es Semangka', 'Es Teh Manis', 'Es Teler', 'Gado-gado', 'Gelato', 'Greek Yoghurt dengan Buah & Granola', 'Ikan Bandeng Goreng', 'Ikan Gurame Asam Manis', 'Jus Alpukat', 'Jus Apel', 'Jus Jeruk', 'Kari Ayam', 'Kentang Goreng', 'Keripik Kentang', 'Kerupuk Udang', 'Klepon', 'Kopi Americano', 'Kopi Latte', 'Kue Apem', 'Kue Bolu Coklat', 'Kue Cubit', 'Kue Lumpur', 'Lapis Legit (1 potong)', 'Lasagna', 'Lumpia Basah', 'Makaroni Keju', 'Martabak Keju', 'Mie Ayam', 'Mie Goreng', 'Mie Kocok', 'Milk Shake', 'Mochi', 'Nagasari', 'Nasi Goreng', 'Nasi Goreng Ayam', 'Nasi Hainan', 'Nasi Merah', 'Nasi Padang', 'Nasi Uduk', 'Nugget Ayam', 'Oatmeal Ubi Jalar', 'Pecel Lele', 'Pempek', 'Perkedel Jagung', 'Perkedel Kentang', 'Pisang Goreng Madu', 'Pizza Keju', 'Puding Coklat', 'Ramen Ayam', 'Rawon', 'Rendang', 'Risol Bihun', 'Risol Mayo', 'Roti Isi Coklat', 'Salad Buah', 'Salmon Panggang', 'Sandwich Keju', 'Sate Ayam', 'Serabi', 'Siomay', 'Soda', 'Sop buah', 'Soto ayam', 'Soto mie', 'Spaghetti', 'Sup ayam', 'Susu coklat', 'Tahu isi', 'Teh tanpa gula', 'Teh tarik', 'Telur goreng', 'Telur rebus', 'Tempe orek', 'Tumis kangkung', 'Tumis tahu', 'Tuna salad sandwich', 'Udang goreng', 'Udang lapis tepung']\n"
     ]
    }
   ],
   "source": [
    "# Base directories\n",
    "makanan_dir = \"/home/dafahan/Downloads/raw-data-makanan/makanan\"\n",
    "minuman_dir = \"/home/dafahan/Downloads/raw-data-makanan/minuman\"\n",
    "train_dir = \"/home/dafahan/Downloads/makanan/train\"\n",
    "\n",
    "# Get directory names in makanan and minuman directories\n",
    "makanan_dirs = [d for d in os.listdir(makanan_dir) if os.path.isdir(os.path.join(makanan_dir, d))]\n",
    "minuman_dirs = [d for d in os.listdir(minuman_dir) if os.path.isdir(os.path.join(minuman_dir, d))]\n",
    "train_dirs = [d for d in os.listdir(train_dir) if os.path.isdir(os.path.join(train_dir, d))]\n",
    "# Concatenate the directory names\n",
    "dirs_raw = makanan_dirs + minuman_dirs\n",
    "\n",
    "for d in train_dirs:\n",
    "    if d not in dirs_raw:\n",
    "        print(f\"{d} missing\")\n",
    "\n",
    "print(f\"raw = {len(dirs_raw)}\")\n",
    "print(f\"train = {len(train_dirs)}\")\n",
    "\n",
    "print(sorted(dirs_raw))\n",
    "print(sorted(train_dirs))\n"
   ]
  },
  {
   "cell_type": "markdown",
   "metadata": {},
   "source": [
    "FIND CORRUPTED IMAGES"
   ]
  },
  {
   "cell_type": "code",
   "execution_count": 76,
   "metadata": {},
   "outputs": [
    {
     "name": "stdout",
     "output_type": "stream",
     "text": [
      "Checking images in /home/dafahan/Downloads/makanan/train:\n",
      "\n",
      "\n",
      "Checking images in /home/dafahan/Downloads/makanan/validation:\n",
      "Es Loli_Foto_8.jpg: Error - cannot identify image file '/home/dafahan/Downloads/makanan/validation/Es Loli/Es Loli_Foto_8.jpg'\n",
      "\n",
      "\n",
      "Checking images in /home/dafahan/Downloads/makanan/test:\n",
      "\n",
      "\n"
     ]
    }
   ],
   "source": [
    "\n",
    "def check_images_in_directory(directory):\n",
    "    \"\"\"Check all image files in the given directory for potential corruption.\"\"\"\n",
    "    for root, _, files in os.walk(directory):\n",
    "        for filename in files:\n",
    "            filepath = os.path.join(root, filename)\n",
    "            try:\n",
    "                # Attempt to open the image file\n",
    "                with Image.open(filepath) as img:\n",
    "                    # If successful, the file is not corrupted\n",
    "                    pass\n",
    "            except Exception as e:\n",
    "                # If an error occurs, the file may be corrupted\n",
    "                print(f\"{filename}: Error - {e}\")\n",
    "\n",
    "# Directories containing the images\n",
    "directories = [\n",
    "    '/home/dafahan/Downloads/makanan/train',\n",
    "    '/home/dafahan/Downloads/makanan/validation',\n",
    "    '/home/dafahan/Downloads/makanan/test'\n",
    "]\n",
    "\n",
    "# Check images in each directory\n",
    "for directory in directories:\n",
    "    print(f\"Checking images in {directory}:\")\n",
    "    check_images_in_directory(directory)\n",
    "    print(\"\\n\")\n"
   ]
  },
  {
   "cell_type": "code",
   "execution_count": 86,
   "metadata": {},
   "outputs": [
    {
     "name": "stdout",
     "output_type": "stream",
     "text": [
      "Directories in the train directory: labels = {\n",
      "0: 'Ikan Gurame Asam Manis' , 1: 'Salmon Panggang' , 2: 'Telur rebus' , 3: 'Kari Ayam' , 4: 'Es Campur' , 5: 'Udang lapis tepung' , 6: 'Perkedel Jagung' , 7: 'Es Teh Manis' , 8: 'Sandwich Keju' , 9: 'Es Jeruk Peras' , 10: 'Es Teler' , 11: 'Tahu isi' , 12: 'Gado-gado' , 13: 'Mie Kocok' , 14: 'Klepon' , 15: 'Cilok' , 16: 'Greek Yoghurt dengan Buah & Granola' , 17: 'Telur dadar sayur' , 18: 'Cendol' , 19: 'Ayam (Dilapisi Tepung Roti dan Digoreng)' , 20: 'Pempek' , 21: 'Susu coklat' , 22: 'Kue Apem' , 23: 'Es Krim Strawberry' , 24: 'Es Dawet' , 25: 'Tuna salad sandwich' , 26: 'Mie Ayam' , 27: 'Kerupuk Udang' , 28: 'Telur goreng' , 29: 'Kue Bolu Coklat' , 30: 'Teh tanpa gula' , 31: 'Donat (Glazed)' , 32: 'Kopi Americano' , 33: 'Teh tarik' , 34: 'Gelato' , 35: 'Bakso Daging Sapi' , 36: 'Empal Gentong' , 37: 'Nasi Uduk' , 38: 'Soto mie' , 39: 'Perkedel Kentang' , 40: 'Soto ayam' , 41: 'Rawon' , 42: 'Nasi Goreng Ayam' , 43: 'Es Kacang Merah' , 44: 'Milk Shake' , 45: 'Kue Lumpur' , 46: 'Kentang Goreng' , 47: 'Udang goreng' , 48: 'Nasi Merah' , 49: 'Tumis kangkung' , 50: 'Belgian Waffle' , 51: 'Lasagna' , 52: 'Salad Buah' , 53: 'Es Kelapa Muda' , 54: 'Siomay' , 55: 'Nasi Goreng' , 56: 'Makaroni Keju' , 57: 'Nasi Padang' , 58: 'Nagasari' , 59: 'Jus Jeruk' , 60: 'Sop buah' , 61: 'Sup ayam' , 62: 'Serabi' , 63: 'Martabak Keju' , 64: 'Es Krim Vanila' , 65: 'Rendang' , 66: 'Risol Bihun' , 67: 'Mie Goreng' , 68: 'Soda' , 69: 'Oatmeal Ubi Jalar' , 70: 'Burger' , 71: 'Brownies' , 72: 'Tempe orek' , 73: 'Dimsum' , 74: 'Tumis tahu' , 75: 'Kopi Latte' , 76: 'Lapis Legit (1 potong)' , 77: 'Es Krim Coklat' , 78: 'Nasi Hainan' , 79: 'Pisang Goreng Madu' , 80: 'Kue Cubit' , 81: 'Es Doger' , 82: 'Ramen Ayam' , 83: 'Jus Alpukat' , 84: 'Spaghetti' , 85: 'Cumi Goreng' , 86: 'Air Putih' , 87: 'Es Kopi' , 88: 'Chicken Katsu' , 89: 'Ayam Geprek' , 90: 'Nugget Ayam' , 91: 'Keripik Kentang' , 92: 'Risol Mayo' , 93: 'Ikan Bandeng Goreng' , 94: 'Es Semangka' , 95: 'Roti Isi Coklat' , 96: 'Jus Apel' , 97: 'Es Loli' , 98: 'Bubur Ayam' , 99: 'Mochi' , 100: 'Cappucino' , 101: 'Puding Coklat' , 102: 'Bakpia' , 103: 'Dadar Gulung (2 lapis)' , 104: 'Sate Ayam' , 105: 'Lumpia Basah' , 106: 'Es Podeng' , 107: 'Pecel Lele' , 108: 'Pizza Keju' , }\n",
      "['Ikan Gurame Asam Manis', 'Salmon Panggang', 'Telur rebus', 'Kari Ayam', 'Udang lapis tepung', 'Perkedel Jagung', 'Sandwich Keju', 'Tahu isi', 'Gado-gado', 'Mie Kocok', 'Klepon', 'Cilok', 'Greek Yoghurt dengan Buah & Granola', 'Telur dadar sayur', 'Ayam (Dilapisi Tepung Roti dan Digoreng)', 'Pempek', 'Kue Apem', 'Es Krim Strawberry', 'Tuna salad sandwich', 'Mie Ayam', 'Kerupuk Udang', 'Telur goreng', 'Kue Bolu Coklat', 'Donat (Glazed)', 'Gelato', 'Bakso Daging Sapi', 'Empal Gentong', 'Nasi Uduk', 'Soto mie', 'Perkedel Kentang', 'Soto ayam', 'Rawon', 'Nasi Goreng Ayam', 'Kue Lumpur', 'Kentang Goreng', 'Udang goreng', 'Nasi Merah', 'Tumis kangkung', 'Belgian Waffle', 'Lasagna', 'Salad Buah', 'Siomay', 'Nasi Goreng', 'Makaroni Keju', 'Nasi Padang', 'Nagasari', 'Sup ayam', 'Serabi', 'Martabak Keju', 'Es Krim Vanila', 'Rendang', 'Risol Bihun', 'Mie Goreng', 'Oatmeal Ubi Jalar', 'Burger', 'Brownies', 'Tempe orek', 'Dimsum', 'Tumis tahu', 'Lapis Legit (1 potong)', 'Es Krim Coklat', 'Nasi Hainan', 'Pisang Goreng Madu', 'Kue Cubit', 'Ramen Ayam', 'Spaghetti', 'Cumi Goreng', 'Chicken Katsu', 'Ayam Geprek', 'Nugget Ayam', 'Keripik Kentang', 'Risol Mayo', 'Ikan Bandeng Goreng', 'Roti Isi Coklat', 'Es Loli', 'Bubur Ayam', 'Mochi', 'Puding Coklat', 'Bakpia', 'Dadar Gulung (2 lapis)', 'Sate Ayam', 'Lumpia Basah', 'Pecel Lele', 'Pizza Keju']\n",
      "['Es Campur', 'Es Teh Manis', 'Es Jeruk Peras', 'Es Teler', 'Cendol', 'Susu coklat', 'Es Dawet', 'Teh tanpa gula', 'Kopi Americano', 'Teh tarik', 'Es Kacang Merah', 'Milk Shake', 'Es Kelapa Muda', 'Jus Jeruk', 'Sop buah', 'Soda', 'Kopi Latte', 'Es Doger', 'Jus Alpukat', 'Air Putih', 'Es Kopi', 'Es Semangka', 'Jus Apel', 'Cappucino', 'Es Podeng']\n",
      "['Ikan Gurame Asam Manis', 'Salmon Panggang', 'Telur rebus', 'Kari Ayam', 'Es Campur', 'Udang lapis tepung', 'Perkedel Jagung', 'Es Teh Manis', 'Sandwich Keju', 'Es Jeruk Peras', 'Es Teler', 'Tahu isi', 'Gado-gado', 'Mie Kocok', 'Klepon', 'Cilok', 'Greek Yoghurt dengan Buah & Granola', 'Telur dadar sayur', 'Cendol', 'Ayam (Dilapisi Tepung Roti dan Digoreng)', 'Pempek', 'Susu coklat', 'Kue Apem', 'Es Krim Strawberry', 'Es Dawet', 'Tuna salad sandwich', 'Mie Ayam', 'Kerupuk Udang', 'Telur goreng', 'Kue Bolu Coklat', 'Teh tanpa gula', 'Donat (Glazed)', 'Kopi Americano', 'Teh tarik', 'Gelato', 'Bakso Daging Sapi', 'Empal Gentong', 'Nasi Uduk', 'Soto mie', 'Perkedel Kentang', 'Soto ayam', 'Rawon', 'Nasi Goreng Ayam', 'Es Kacang Merah', 'Milk Shake', 'Kue Lumpur', 'Kentang Goreng', 'Udang goreng', 'Nasi Merah', 'Tumis kangkung', 'Belgian Waffle', 'Lasagna', 'Salad Buah', 'Es Kelapa Muda', 'Siomay', 'Nasi Goreng', 'Makaroni Keju', 'Nasi Padang', 'Nagasari', 'Jus Jeruk', 'Sop buah', 'Sup ayam', 'Serabi', 'Martabak Keju', 'Es Krim Vanila', 'Rendang', 'Risol Bihun', 'Mie Goreng', 'Soda', 'Oatmeal Ubi Jalar', 'Burger', 'Brownies', 'Tempe orek', 'Dimsum', 'Tumis tahu', 'Kopi Latte', 'Lapis Legit (1 potong)', 'Es Krim Coklat', 'Nasi Hainan', 'Pisang Goreng Madu', 'Kue Cubit', 'Es Doger', 'Ramen Ayam', 'Jus Alpukat', 'Spaghetti', 'Cumi Goreng', 'Air Putih', 'Es Kopi', 'Chicken Katsu', 'Ayam Geprek', 'Nugget Ayam', 'Keripik Kentang', 'Risol Mayo', 'Ikan Bandeng Goreng', 'Es Semangka', 'Roti Isi Coklat', 'Jus Apel', 'Es Loli', 'Bubur Ayam', 'Mochi', 'Cappucino', 'Puding Coklat', 'Bakpia', 'Dadar Gulung (2 lapis)', 'Sate Ayam', 'Lumpia Basah', 'Es Podeng', 'Pecel Lele', 'Pizza Keju']\n"
     ]
    }
   ],
   "source": [
    "import os\n",
    "\n",
    "# List to store directory names\n",
    "directories = []\n",
    "\n",
    "\n",
    "# Iterate over the directories in the train directory\n",
    "for dirname, _, _ in os.walk('/home/dafahan/Downloads/makanan/train'):\n",
    "    # Extract the directory name from the path\n",
    "    directory_name = os.path.basename(dirname)\n",
    "    # Append the directory name to the list\n",
    "    directories.append(directory_name)\n",
    "\n",
    "makanan_dir = \"/home/dafahan/Downloads/raw-data-makanan/makanan\"\n",
    "minuman_dir = \"/home/dafahan/Downloads/raw-data-makanan/minuman\"\n",
    "train_dir = \"/home/dafahan/Downloads/makanan/train\"\n",
    "# Function to get only immediate subdirectories\n",
    "def get_immediate_subdirectories(directory):\n",
    "    return [d for d in os.listdir(directory) if os.path.isdir(os.path.join(directory, d))]\n",
    "\n",
    "# Get immediate subdirectories of makanan and minuman directories\n",
    "makanan = get_immediate_subdirectories(makanan_dir)\n",
    "minuman = get_immediate_subdirectories(minuman_dir)\n",
    "allMakananMinuman = get_immediate_subdirectories(train_dir)\n",
    "\n",
    "# Print the list of directory names\n",
    "print(\"Directories in the train directory:\",end=\" \")\n",
    "# Print the directory names using their index\n",
    "print(\"labels = {\")\n",
    "for i in range(len(directories)):\n",
    "    if i == 0 :\n",
    "        continue\n",
    "\n",
    "    print(f\"{i-1}: '{directories[i]}'\",end=\" , \")\n",
    "\n",
    "print(\"}\")\n",
    "\n",
    "print(makanan)\n",
    "print(minuman)\n",
    "print(allMakananMinuman)\n"
   ]
  },
  {
   "cell_type": "code",
   "execution_count": 88,
   "metadata": {},
   "outputs": [],
   "source": [
    "for d in allMakananMinuman:\n",
    "    if d not in makanan and d not in minuman:\n",
    "        print(d)"
   ]
  },
  {
   "cell_type": "code",
   "execution_count": 92,
   "metadata": {},
   "outputs": [
    {
     "name": "stdout",
     "output_type": "stream",
     "text": [
      "{'Nasi Uduk': [1.83, 260.0, 160.0], 'Bubur Ayam': [0.19, 372.0, 240.0], 'Ayam Geprek': [2.34, 789.0, 300.0], 'Nasi Goreng': [1.13, 250.0, 149.0], 'Bakso Daging Sapi': [1.63, 218.0, 108.0], 'Soto Mie': [1.56, 370.0, 300.0], 'Es Teh Manis': [17.15, 68.0, 178.0], 'Es Jeruk peras': [15.62, 84.0, 186.0], 'Es kelapa muda': [23.98, 113.0, 240.0], 'Es Kopi': [6.54, 30.0, 30.0], 'Spaghetti': [0.78, 220.0, 140.0], 'Nasi Goreng Ayam': [1.04, 247.0, 149.0], 'Makaroni Keju': [8.72, 493.0, 243.0], 'Kue Bolu Coklat ': [26.37, 196.0, 66.0], 'Mie Kocok': [2.65, 388.0, 240.0], 'Pizza Keju': [6.12, 475.0, 172.0], 'Kari Ayam': [3.66, 219.0, 177.0], 'Sup Ayam': [0.27, 75.0, 241.0], 'Susu Coklat': [24.02, 190.0, 250.0], 'Jus Apel': [20.27, 87.0, 186.0], 'Ramen Ayam': [2.0, 280.0, 63.0], 'Belgian Waffle': [13.0, 220.0, 65.0], 'Mie Goreng': [6.0, 390.0, 85.0], 'Donat (Glazed)': [13.0, 240.0, 60.0], 'Es Krim Strawberry': [14.71, 125.0, 103.0], 'Kentang Goreng': [0.33, 156.0, 89.0], 'Burger': [6.7, 272.0, 112.0], 'Nugget Ayam': [0.25, 43.0, 19.0], 'Telur Goreng': [0.38, 89.0, 50.0], 'Jus Jeruk': [21.0, 110.0, 240.0], 'Risol Mayo': [0.74, 329.0, 120.0], 'Risol Bihun': [1.24, 187.0, 120.0], 'Soto Ayam ': [0.98, 312.0, 241.0], 'Nasi Merah': [0.35, 110.0, 100.0], 'Kerupuk Udang': [0.12, 151.0, 28.0], 'Perkedel Kentang': [0.13, 107.0, 75.0], 'Telur Rebus': [0.56, 77.0, 50.0], 'Kue Apem': [5.43, 171.0, 90.0], 'Ayam (Dilapisi Tepung Roti dan Digoreng)': [0.88, 190.0, 100.0], 'Martabak Keju': [2.09, 204.0, 80.0], 'Kue Cubit ': [9.34, 141.0, 60.0], 'Es Podeng': [17.77, 188.0, 125.0], 'Es Doger': [17.59, 341.0, 240.0], 'Es Teler': [44.98, 425.0, 240.0], 'Es Loli ': [4.81, 27.0, 35.0], 'Brownies': [12.5, 129.0, 34.0], 'Bakpia': [5.62, 149.0, 50.0], 'Keripik Kentang': [1.15, 153.0, 28.0], 'Empal Gentong ': [2.23, 415.0, 250.0], 'Serabi': [4.35, 323.0, 150.0], 'Klepon': [20.0, 120.0, 50.0], 'Dadar Gulung (2 lapis)': [7.0, 200.0, 100.0], 'Nagasari': [15.0, 250.0, 100.0], 'Kue Lumpur': [15.0, 100.0, 50.0], 'Lapis Legit (1 potong)': [20.0, 350.0, 100.0], 'Es Dawet': [10.0, 200.0, 250.0], 'Sop Buah': [15.0, 250.0, 250.0], 'Cendol': [10.0, 200.0, 250.0], 'Es Kacang Merah': [15.0, 150.0, 250.0], 'Es Campur': [15.0, 300.0, 250.0], 'Rendang': [3.14, 468.0, 240.0], 'Gado-gado': [4.43, 318.0, 241.0], 'Siomay': [0.19, 103.0, 75.0], 'Dimsum': [0.48, 94.0, 84.0], 'Sate Ayam': [0.89, 101.0, 45.0], 'Mie Ayam': [1.32, 421.0, 240.0], 'Es Krim Coklat': [33.73, 143.0, 66.0], 'Es Semangka': [12.0, 50.0, 14.0], 'Nasi Padang': [17.76, 664.0, 380.0], 'Pempek': [11.18, 234.0, 120.0], 'Pecel Lele': [9.67, 292.0, 150.0], 'Rawon': [1.07, 288.0, 241.0], 'Ikan Gurame Asam Manis': [2.79, 261.0, 135.0], 'Cilok': [2.91, 319.0, 120.0], 'Kopi Latte': [13.55, 135.0, 408.0], 'Soda': [33.76, 140.0, 369.0], 'Cumi Goreng': [0.56, 106.0, 85.0], 'Ikan Bandeng Goreng': [0.31, 349.0, 150.0], 'Udang Goreng': [0.77, 244.0, 85.0], 'Udang Lapis Tepung ': [3.0, 150.0, 100.0], 'Gelato': [31.62, 124.0, 97.0], 'Perkedel Jagung': [1.15, 91.0, 35.0], 'Tahu Isi': [1.68, 134.0, 120.0], 'Milk Shake': [49.01, 382.0, 283.0], 'Teh Tarik': [20.89, 124.0, 250.0], 'Puding Coklat': [20.17, 157.0, 112.0], 'Pisang Goreng Madu': [28.78, 215.0, 120.0], 'Roti isi Coklat': [13.0, 280.0, 100.0], 'Es Krim Vanila': [10.0, 120.0, 100.0], 'Lumpia Basah': [0.47, 80.0, 64.0], 'Tempe Orek': [5.13, 175.0, 100.0], 'Tuna Salad Sandwich': [6.19, 287.0, 157.0], 'Sandwich Keju': [3.59, 261.0, 83.0], 'Tumis Kangkung': [3.0, 150.0, 200.0], 'Salmon Panggang': [0.17, 250.0, 150.0], 'Sup Sayur Ayam': [3.0, 200.0, 300.0], 'Salad Buah': [10.0, 150.0, 200.0], 'Oatmeal Ubi Jalar': [5.0, 200.0, 250.0], 'Telur Dadar Sayur': [2.0, 200.0, 200.0], 'Tumis Tahu': [2.0, 180.0, 250.0], 'Greek Yoghurt dengan Buah & Granola': [15.0, 300.0, 250.0], 'Jus Alpukat': [12.96, 195.0, 150.0], 'Cappucino': [6.41, 74.0, 249.0], 'Teh Tanpa Gula': [0.0, 0.0, 250.0], 'Air Putih': [0.0, 0.0, 250.0], 'Mochi': [7.12, 224.0, 70.0], 'Kopi Americano': [0.0, 15.0, 473.0], 'Chicken Katsu': [2.0, 240.0, 100.0], 'Lasagna': [2.72, 163.0, 100.0], 'Nasi Hainan': [2.0, 50.0, 14.5]}\n"
     ]
    }
   ],
   "source": [
    "# Initialize an empty dictionary to store the data\n",
    "data = {}\n",
    "\n",
    "# Path to the CSV file\n",
    "csv_file = \"output_file.csv\"\n",
    "\n",
    "# Read the CSV file as a dictionary\n",
    "with open(csv_file, \"r\", newline=\"\") as file:\n",
    "    reader = csv.DictReader(file)\n",
    "    for row in reader:\n",
    "        # Extract values for each row and store in the data dictionary\n",
    "        food_name = row[\"Makanan atau Minuman\"]\n",
    "        gula = float(row[\"Gula\"].split()[0]) if row[\"Gula\"] else None\n",
    "        kalori = float(row[\"Kalori\"].split()[0]) if row[\"Kalori\"] else None\n",
    "        serving_size = float(row[\"Serving Size\"].split()[0]) if row[\"Serving Size\"] else None\n",
    "        data[food_name] = [gula, kalori, serving_size]\n",
    "\n",
    "# Print the data dictionary\n",
    "print(data)"
   ]
  }
 ],
 "metadata": {
  "kernelspec": {
   "display_name": ".venv",
   "language": "python",
   "name": "python3"
  },
  "language_info": {
   "codemirror_mode": {
    "name": "ipython",
    "version": 3
   },
   "file_extension": ".py",
   "mimetype": "text/x-python",
   "name": "python",
   "nbconvert_exporter": "python",
   "pygments_lexer": "ipython3",
   "version": "3.11.6"
  }
 },
 "nbformat": 4,
 "nbformat_minor": 2
}
